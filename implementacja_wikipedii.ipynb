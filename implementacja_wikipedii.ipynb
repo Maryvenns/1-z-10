{
  "cells": [
    {
      "cell_type": "markdown",
      "metadata": {
        "id": "view-in-github",
        "colab_type": "text"
      },
      "source": [
        "<a href=\"https://colab.research.google.com/github/Maryvenns/1-z-10/blob/main/implementacja_wikipedii.ipynb\" target=\"_parent\"><img src=\"https://colab.research.google.com/assets/colab-badge.svg\" alt=\"Open In Colab\"/></a>"
      ]
    },
    {
      "cell_type": "code",
      "execution_count": null,
      "metadata": {
        "id": "XCJ2eH30_Pq7"
      },
      "outputs": [],
      "source": [
        "!pip install -U pip setuptools wheel\n",
        "!pip install -U spacy\n",
        "!pip install wikipedia\n",
        "!pip install transformers\n",
        "!pip install requests"
      ]
    },
    {
      "cell_type": "code",
      "source": [
        "import spacy.cli\n",
        "import spacy\n",
        "import requests\n",
        "from transformers import pipeline\n",
        "import wikipedia as wiki"
      ],
      "metadata": {
        "id": "N1e0CuI6_ZI1"
      },
      "execution_count": null,
      "outputs": []
    },
    {
      "cell_type": "code",
      "source": [
        "spacy.cli.download(\"pl_core_news_sm\")\n",
        "nlp = spacy.load(\"pl_core_news_sm\")"
      ],
      "metadata": {
        "id": "t2f8w9RxV6ry"
      },
      "execution_count": null,
      "outputs": []
    },
    {
      "cell_type": "code",
      "execution_count": null,
      "metadata": {
        "id": "DP6Mv-rYHZ6M"
      },
      "outputs": [],
      "source": [
        "wiki.set_lang(\"pl\")\n",
        "nlp = spacy.load(\"pl_core_news_sm\")\n",
        "qa_pipeline = pipeline(\n",
        "    \"question-answering\",\n",
        "    model=\"henryk/bert-base-multilingual-cased-finetuned-polish-squad2\",\n",
        "    tokenizer=\"henryk/bert-base-multilingual-cased-finetuned-polish-squad2\"\n",
        ")"
      ]
    },
    {
      "cell_type": "code",
      "execution_count": null,
      "metadata": {
        "id": "y6Ncilm8_kmG"
      },
      "outputs": [],
      "source": [
        "pytania = requests.get('https://raw.githubusercontent.com/poleval/2021-question-answering/main/dev-0/in.tsv').text.split('\\n')\n",
        "context = requests.get('https://raw.githubusercontent.com/pochu1337/qa/main/Odpowiedzi').text.split('\\n')"
      ]
    },
    {
      "cell_type": "code",
      "execution_count": null,
      "metadata": {
        "id": "xQT2mM4JBAhQ"
      },
      "outputs": [],
      "source": [
        "suma = 0\n",
        "przerwij = False\n",
        "wynik = []\n",
        "answers = []\n",
        "count_break = 0\n",
        "for pytanie in pytania[0:100]:\n",
        "  i = 0\n",
        "  wynik = []\n",
        "  results = []\n",
        "  doc = nlp(pytanie)\n",
        "  while len(results) == 0:\n",
        "    print(doc[i:len(doc)-1].text)\n",
        "    results = wiki.search(doc[i:len(doc)-1].text)\n",
        "    if i == len(doc)-3:\n",
        "      count_break += 1\n",
        "      answers.append(\"\")\n",
        "      break\n",
        "    print(results)\n",
        "    i += 1\n",
        "    if len(results) > 0:\n",
        "      for k in range():\n",
        "        try:\n",
        "          wynik.append(qa_pipeline({\n",
        "            'context': wiki.page(results[k]).content,\n",
        "            'question': pytanie}))\n",
        "        except:\n",
        "          wynik.append({'score':0})\n",
        "      hightestScore = max(wynik, key=lambda x:x['score'])\n",
        "      answers.append(hightestScore['answer'])\n",
        "\n",
        "  suma = suma + len(results)\n",
        "\n",
        "\n"
      ]
    },
    {
      "cell_type": "code",
      "execution_count": null,
      "metadata": {
        "colab": {
          "background_save": true
        },
        "id": "jUzuhxAW-gOK",
        "outputId": "62529955-dadd-41c6-ffe2-c080787ca999"
      },
      "outputs": [
        {
          "name": "stdout",
          "output_type": "stream",
          "text": [
            "50\n",
            "['Fatima', 'Lepiej', 'Defibrylacja jest zabiegiem medycznym', 'Leszek Czarnecki', 'Zanzibar', 'metabolizmu', 'retorzy', 'Londynie.', 'Diogenes z Synopy', 'Zygmunt August Król Polski', '39 metrów', 'małe ryby', '1927 roku', '2π (360°)', 'Bitwa pod Xiaoting', 'Paryż', 'Francja', '', 'Jerzy Stryjecki', 'wyższy', 'Andrzej Apostoł', 'Afryka', '78', 'Aron', 'smaku', 'Ghany', 'Hermesem', 'Cikut', 'Małgorzata Gersdorf', 'Gdańska', 'brytyjskie', '', 'Olzy', 'Radziejowa', 'kobiety', 'Aleksander Etolczyk', 'Armia Czerwona', '1995', 'obserwatorium astronomiczne', '2 października', 'Dzień Kanadyjskiej Flagi', 'koniec lat 40', 'Jaja', 'Futsalu', 'Cumberlanda', 'brązu', 'Błękitna Armia', 'Bolesław Bierut', '', '12 maja']\n"
          ]
        }
      ],
      "source": [
        "print(len(answers))\n",
        "print(answers)"
      ]
    },
    {
      "cell_type": "code",
      "execution_count": null,
      "metadata": {
        "id": "lYoHgTA1LoJW"
      },
      "outputs": [],
      "source": [
        "suma = 0\n",
        "wynik = []\n",
        "answers = []\n",
        "count_break = 0\n",
        "for pytanie in pytania[100:200]:\n",
        "  i = 0\n",
        "  wynik = []\n",
        "  results = []\n",
        "  doc = nlp(pytanie)\n",
        "  while len(results) == 0:\n",
        "    print(doc[i:len(doc)-1].text)\n",
        "    results = wiki.search(doc[i:len(doc)-1].text)\n",
        "    if i == len(doc)-3:\n",
        "      count_break += 1\n",
        "      answers.append(\"\")\n",
        "      break\n",
        "    i += 1\n",
        "    if len(results) > 0:\n",
        "      for k in range(3):\n",
        "        try:\n",
        "          wynik.append(qa_pipeline({\n",
        "            'context': wiki.page(results[k]).content,\n",
        "            'question': pytanie}))\n",
        "        except:\n",
        "          wynik.append({'score':0})\n",
        "      hightestScore = max(wynik, key=lambda x:x['score'])\n",
        "      answers.append(hightestScore['answer'])\n",
        "\n",
        "  suma = suma + len(results)\n",
        "\n",
        "\n",
        "print(len(answers))\n",
        "print(answers)"
      ]
    },
    {
      "cell_type": "code",
      "source": [
        "answers"
      ],
      "metadata": {
        "id": "BbiTLXUZbaQZ"
      },
      "execution_count": null,
      "outputs": []
    }
  ],
  "metadata": {
    "accelerator": "GPU",
    "colab": {
      "provenance": [],
      "include_colab_link": true
    },
    "kernelspec": {
      "display_name": "Python 3",
      "name": "python3"
    },
    "language_info": {
      "name": "python"
    }
  },
  "nbformat": 4,
  "nbformat_minor": 0
}